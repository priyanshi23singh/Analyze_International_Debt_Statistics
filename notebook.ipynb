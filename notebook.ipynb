{
 "cells": [
  {
   "cell_type": "markdown",
   "metadata": {
    "dc": {
     "key": "4"
    },
    "deletable": false,
    "editable": false,
    "run_control": {
     "frozen": true
    },
    "tags": [
     "context"
    ]
   },
   "source": [
    "## 1. The World Bank's international debt data\n",
    "<p>It's not that we humans only take debts to manage our necessities. A country may also take debt to manage its economy. For example, infrastructure spending is one costly ingredient required for a country's citizens to lead comfortable lives. <a href=\"https://www.worldbank.org\">The World Bank</a> is the organization that provides debt to countries.</p>\n",
    "<p>In this notebook, we are going to analyze international debt data collected by The World Bank. The dataset contains information about the amount of debt (in USD) owed by developing countries across several categories. We are going to find the answers to questions like: </p>\n",
    "<ul>\n",
    "<li>What is the total amount of debt that is owed by the countries listed in the dataset?</li>\n",
    "<li>Which country owns the maximum amount of debt and what does that amount look like?</li>\n",
    "<li>What is the average amount of debt owed by countries across different debt indicators?</li>\n",
    "</ul>\n",
    "<p><img src=\"https://assets.datacamp.com/production/project_754/img/image.jpg\" alt></p>\n",
    "<p>The first line of code connects us to the <code>international_debt</code> database where the table <code>international_debt</code> is residing. Let's first <code>SELECT</code> <em>all</em> of the columns from the <code>international_debt</code> table. Also, we'll limit the output to the first ten rows to keep the output clean.</p>"
   ]
  },
  {
   "cell_type": "code",
   "execution_count": 20,
   "metadata": {
    "dc": {
     "key": "4"
    },
    "scrolled": true,
    "tags": [
     "sample_code"
    ]
   },
   "outputs": [],
   "source": [
    "import pandas as pd\n",
    "import sqlite3\n",
    "\n",
    "#read the CSV\n",
    "df = pd.read_csv('international_debt.csv')\n",
    "#connect to a database\n",
    "conn = sqlite3.connect(\"International_debt.db\") #if the db does not exist, this creates a Any_Database_Name.db file in the current directory\n",
    "#store your table in the database:\n",
    "# df.to_sql('international_debt', conn)\n",
    "#read a SQL Query out of your database and into a pandas dataframe\n",
    "sql_string = 'SELECT * FROM international_debt'\n",
    "df = pd.read_sql(sql_string, conn)"
   ]
  },
  {
   "cell_type": "code",
   "execution_count": 27,
   "metadata": {
    "scrolled": true
   },
   "outputs": [
    {
     "data": {
      "text/html": [
       "<div>\n",
       "<style scoped>\n",
       "    .dataframe tbody tr th:only-of-type {\n",
       "        vertical-align: middle;\n",
       "    }\n",
       "\n",
       "    .dataframe tbody tr th {\n",
       "        vertical-align: top;\n",
       "    }\n",
       "\n",
       "    .dataframe thead th {\n",
       "        text-align: right;\n",
       "    }\n",
       "</style>\n",
       "<table border=\"1\" class=\"dataframe\">\n",
       "  <thead>\n",
       "    <tr style=\"text-align: right;\">\n",
       "      <th></th>\n",
       "      <th>index</th>\n",
       "      <th>country_name</th>\n",
       "      <th>country_code</th>\n",
       "      <th>indicator_name</th>\n",
       "      <th>indicator_code</th>\n",
       "      <th>debt</th>\n",
       "    </tr>\n",
       "  </thead>\n",
       "  <tbody>\n",
       "    <tr>\n",
       "      <th>0</th>\n",
       "      <td>0</td>\n",
       "      <td>Afghanistan</td>\n",
       "      <td>AFG</td>\n",
       "      <td>Disbursements on external debt, long-term (DIS...</td>\n",
       "      <td>DT.DIS.DLXF.CD</td>\n",
       "      <td>72894453.7</td>\n",
       "    </tr>\n",
       "    <tr>\n",
       "      <th>1</th>\n",
       "      <td>1</td>\n",
       "      <td>Afghanistan</td>\n",
       "      <td>AFG</td>\n",
       "      <td>Interest payments on external debt, long-term ...</td>\n",
       "      <td>DT.INT.DLXF.CD</td>\n",
       "      <td>53239440.1</td>\n",
       "    </tr>\n",
       "    <tr>\n",
       "      <th>2</th>\n",
       "      <td>2</td>\n",
       "      <td>Afghanistan</td>\n",
       "      <td>AFG</td>\n",
       "      <td>PPG, bilateral (AMT, current US$)</td>\n",
       "      <td>DT.AMT.BLAT.CD</td>\n",
       "      <td>61739336.9</td>\n",
       "    </tr>\n",
       "    <tr>\n",
       "      <th>3</th>\n",
       "      <td>3</td>\n",
       "      <td>Afghanistan</td>\n",
       "      <td>AFG</td>\n",
       "      <td>PPG, bilateral (DIS, current US$)</td>\n",
       "      <td>DT.DIS.BLAT.CD</td>\n",
       "      <td>49114729.4</td>\n",
       "    </tr>\n",
       "    <tr>\n",
       "      <th>4</th>\n",
       "      <td>4</td>\n",
       "      <td>Afghanistan</td>\n",
       "      <td>AFG</td>\n",
       "      <td>PPG, bilateral (INT, current US$)</td>\n",
       "      <td>DT.INT.BLAT.CD</td>\n",
       "      <td>39903620.1</td>\n",
       "    </tr>\n",
       "    <tr>\n",
       "      <th>5</th>\n",
       "      <td>5</td>\n",
       "      <td>Afghanistan</td>\n",
       "      <td>AFG</td>\n",
       "      <td>PPG, multilateral (AMT, current US$)</td>\n",
       "      <td>DT.AMT.MLAT.CD</td>\n",
       "      <td>39107845.0</td>\n",
       "    </tr>\n",
       "    <tr>\n",
       "      <th>6</th>\n",
       "      <td>6</td>\n",
       "      <td>Afghanistan</td>\n",
       "      <td>AFG</td>\n",
       "      <td>PPG, multilateral (DIS, current US$)</td>\n",
       "      <td>DT.DIS.MLAT.CD</td>\n",
       "      <td>23779724.3</td>\n",
       "    </tr>\n",
       "    <tr>\n",
       "      <th>7</th>\n",
       "      <td>7</td>\n",
       "      <td>Afghanistan</td>\n",
       "      <td>AFG</td>\n",
       "      <td>PPG, multilateral (INT, current US$)</td>\n",
       "      <td>DT.INT.MLAT.CD</td>\n",
       "      <td>13335820.0</td>\n",
       "    </tr>\n",
       "    <tr>\n",
       "      <th>8</th>\n",
       "      <td>8</td>\n",
       "      <td>Afghanistan</td>\n",
       "      <td>AFG</td>\n",
       "      <td>PPG, official creditors (AMT, current US$)</td>\n",
       "      <td>DT.AMT.OFFT.CD</td>\n",
       "      <td>100847181.9</td>\n",
       "    </tr>\n",
       "    <tr>\n",
       "      <th>9</th>\n",
       "      <td>9</td>\n",
       "      <td>Afghanistan</td>\n",
       "      <td>AFG</td>\n",
       "      <td>PPG, official creditors (DIS, current US$)</td>\n",
       "      <td>DT.DIS.OFFT.CD</td>\n",
       "      <td>72894453.7</td>\n",
       "    </tr>\n",
       "  </tbody>\n",
       "</table>\n",
       "</div>"
      ],
      "text/plain": [
       "   index country_name country_code  \\\n",
       "0      0  Afghanistan          AFG   \n",
       "1      1  Afghanistan          AFG   \n",
       "2      2  Afghanistan          AFG   \n",
       "3      3  Afghanistan          AFG   \n",
       "4      4  Afghanistan          AFG   \n",
       "5      5  Afghanistan          AFG   \n",
       "6      6  Afghanistan          AFG   \n",
       "7      7  Afghanistan          AFG   \n",
       "8      8  Afghanistan          AFG   \n",
       "9      9  Afghanistan          AFG   \n",
       "\n",
       "                                      indicator_name  indicator_code  \\\n",
       "0  Disbursements on external debt, long-term (DIS...  DT.DIS.DLXF.CD   \n",
       "1  Interest payments on external debt, long-term ...  DT.INT.DLXF.CD   \n",
       "2                  PPG, bilateral (AMT, current US$)  DT.AMT.BLAT.CD   \n",
       "3                  PPG, bilateral (DIS, current US$)  DT.DIS.BLAT.CD   \n",
       "4                  PPG, bilateral (INT, current US$)  DT.INT.BLAT.CD   \n",
       "5               PPG, multilateral (AMT, current US$)  DT.AMT.MLAT.CD   \n",
       "6               PPG, multilateral (DIS, current US$)  DT.DIS.MLAT.CD   \n",
       "7               PPG, multilateral (INT, current US$)  DT.INT.MLAT.CD   \n",
       "8         PPG, official creditors (AMT, current US$)  DT.AMT.OFFT.CD   \n",
       "9         PPG, official creditors (DIS, current US$)  DT.DIS.OFFT.CD   \n",
       "\n",
       "          debt  \n",
       "0   72894453.7  \n",
       "1   53239440.1  \n",
       "2   61739336.9  \n",
       "3   49114729.4  \n",
       "4   39903620.1  \n",
       "5   39107845.0  \n",
       "6   23779724.3  \n",
       "7   13335820.0  \n",
       "8  100847181.9  \n",
       "9   72894453.7  "
      ]
     },
     "metadata": {},
     "output_type": "display_data"
    }
   ],
   "source": [
    "sql_string = 'SELECT * FROM international_debt LIMIT 10'\n",
    "df = pd.read_sql(sql_string, conn)\n",
    "display(df)\n",
    "# postgresql:///international_debt\n",
    "# SELECT * FROM international_debt.csv LIMIT 10;"
   ]
  },
  {
   "cell_type": "markdown",
   "metadata": {
    "dc": {
     "key": "12"
    },
    "deletable": false,
    "editable": false,
    "run_control": {
     "frozen": true
    },
    "tags": [
     "context"
    ]
   },
   "source": [
    "## 2. Finding the number of distinct countries\n",
    "<p>From the first ten rows, we can see the amount of debt owed by <em>Afghanistan</em> in the different debt indicators. But we do not know the number of different countries we have on the table. There are repetitions in the country names because a country is most likely to have debt in more than one debt indicator. </p>\n",
    "<p>Without a count of unique countries, we will not be able to perform our statistical analyses holistically. In this section, we are going to extract the number of unique countries present in the table. </p>"
   ]
  },
  {
   "cell_type": "code",
   "execution_count": 28,
   "metadata": {
    "dc": {
     "key": "12"
    },
    "tags": [
     "sample_code"
    ]
   },
   "outputs": [
    {
     "data": {
      "text/html": [
       "<div>\n",
       "<style scoped>\n",
       "    .dataframe tbody tr th:only-of-type {\n",
       "        vertical-align: middle;\n",
       "    }\n",
       "\n",
       "    .dataframe tbody tr th {\n",
       "        vertical-align: top;\n",
       "    }\n",
       "\n",
       "    .dataframe thead th {\n",
       "        text-align: right;\n",
       "    }\n",
       "</style>\n",
       "<table border=\"1\" class=\"dataframe\">\n",
       "  <thead>\n",
       "    <tr style=\"text-align: right;\">\n",
       "      <th></th>\n",
       "      <th>total_distinct_countries</th>\n",
       "    </tr>\n",
       "  </thead>\n",
       "  <tbody>\n",
       "    <tr>\n",
       "      <th>0</th>\n",
       "      <td>124</td>\n",
       "    </tr>\n",
       "  </tbody>\n",
       "</table>\n",
       "</div>"
      ],
      "text/plain": [
       "   total_distinct_countries\n",
       "0                       124"
      ]
     },
     "metadata": {},
     "output_type": "display_data"
    }
   ],
   "source": [
    "sql_string = 'SELECT count(DISTINCT country_name) AS total_distinct_countries FROM international_debt;'\n",
    "df = pd.read_sql(sql_string, conn)\n",
    "display(df)"
   ]
  },
  {
   "cell_type": "markdown",
   "metadata": {
    "dc": {
     "key": "20"
    },
    "deletable": false,
    "editable": false,
    "run_control": {
     "frozen": true
    },
    "tags": [
     "context"
    ]
   },
   "source": [
    "## 3. Finding out the distinct debt indicators\n",
    "<p>We can see there are a total of 124 countries present on the table. As we saw in the first section, there is a column called <code>indicator_name</code> that briefly specifies the purpose of taking the debt. Just beside that column, there is another column called <code>indicator_code</code> which symbolizes the category of these debts. Knowing about these various debt indicators will help us to understand the areas in which a country can possibly be indebted to. </p>"
   ]
  },
  {
   "cell_type": "code",
   "execution_count": 26,
   "metadata": {
    "dc": {
     "key": "20"
    },
    "tags": [
     "sample_code"
    ]
   },
   "outputs": [
    {
     "data": {
      "text/html": [
       "<div>\n",
       "<style scoped>\n",
       "    .dataframe tbody tr th:only-of-type {\n",
       "        vertical-align: middle;\n",
       "    }\n",
       "\n",
       "    .dataframe tbody tr th {\n",
       "        vertical-align: top;\n",
       "    }\n",
       "\n",
       "    .dataframe thead th {\n",
       "        text-align: right;\n",
       "    }\n",
       "</style>\n",
       "<table border=\"1\" class=\"dataframe\">\n",
       "  <thead>\n",
       "    <tr style=\"text-align: right;\">\n",
       "      <th></th>\n",
       "      <th>distinct_debt_indicators</th>\n",
       "    </tr>\n",
       "  </thead>\n",
       "  <tbody>\n",
       "    <tr>\n",
       "      <th>0</th>\n",
       "      <td>DT.AMT.BLAT.CD</td>\n",
       "    </tr>\n",
       "    <tr>\n",
       "      <th>1</th>\n",
       "      <td>DT.AMT.DLXF.CD</td>\n",
       "    </tr>\n",
       "    <tr>\n",
       "      <th>2</th>\n",
       "      <td>DT.AMT.DPNG.CD</td>\n",
       "    </tr>\n",
       "    <tr>\n",
       "      <th>3</th>\n",
       "      <td>DT.AMT.MLAT.CD</td>\n",
       "    </tr>\n",
       "    <tr>\n",
       "      <th>4</th>\n",
       "      <td>DT.AMT.OFFT.CD</td>\n",
       "    </tr>\n",
       "    <tr>\n",
       "      <th>5</th>\n",
       "      <td>DT.AMT.PBND.CD</td>\n",
       "    </tr>\n",
       "    <tr>\n",
       "      <th>6</th>\n",
       "      <td>DT.AMT.PCBK.CD</td>\n",
       "    </tr>\n",
       "    <tr>\n",
       "      <th>7</th>\n",
       "      <td>DT.AMT.PROP.CD</td>\n",
       "    </tr>\n",
       "    <tr>\n",
       "      <th>8</th>\n",
       "      <td>DT.AMT.PRVT.CD</td>\n",
       "    </tr>\n",
       "    <tr>\n",
       "      <th>9</th>\n",
       "      <td>DT.DIS.BLAT.CD</td>\n",
       "    </tr>\n",
       "    <tr>\n",
       "      <th>10</th>\n",
       "      <td>DT.DIS.DLXF.CD</td>\n",
       "    </tr>\n",
       "    <tr>\n",
       "      <th>11</th>\n",
       "      <td>DT.DIS.MLAT.CD</td>\n",
       "    </tr>\n",
       "    <tr>\n",
       "      <th>12</th>\n",
       "      <td>DT.DIS.OFFT.CD</td>\n",
       "    </tr>\n",
       "    <tr>\n",
       "      <th>13</th>\n",
       "      <td>DT.DIS.PCBK.CD</td>\n",
       "    </tr>\n",
       "    <tr>\n",
       "      <th>14</th>\n",
       "      <td>DT.DIS.PROP.CD</td>\n",
       "    </tr>\n",
       "    <tr>\n",
       "      <th>15</th>\n",
       "      <td>DT.DIS.PRVT.CD</td>\n",
       "    </tr>\n",
       "    <tr>\n",
       "      <th>16</th>\n",
       "      <td>DT.INT.BLAT.CD</td>\n",
       "    </tr>\n",
       "    <tr>\n",
       "      <th>17</th>\n",
       "      <td>DT.INT.DLXF.CD</td>\n",
       "    </tr>\n",
       "    <tr>\n",
       "      <th>18</th>\n",
       "      <td>DT.INT.DPNG.CD</td>\n",
       "    </tr>\n",
       "    <tr>\n",
       "      <th>19</th>\n",
       "      <td>DT.INT.MLAT.CD</td>\n",
       "    </tr>\n",
       "    <tr>\n",
       "      <th>20</th>\n",
       "      <td>DT.INT.OFFT.CD</td>\n",
       "    </tr>\n",
       "    <tr>\n",
       "      <th>21</th>\n",
       "      <td>DT.INT.PBND.CD</td>\n",
       "    </tr>\n",
       "    <tr>\n",
       "      <th>22</th>\n",
       "      <td>DT.INT.PCBK.CD</td>\n",
       "    </tr>\n",
       "    <tr>\n",
       "      <th>23</th>\n",
       "      <td>DT.INT.PROP.CD</td>\n",
       "    </tr>\n",
       "    <tr>\n",
       "      <th>24</th>\n",
       "      <td>DT.INT.PRVT.CD</td>\n",
       "    </tr>\n",
       "  </tbody>\n",
       "</table>\n",
       "</div>"
      ],
      "text/plain": [
       "   distinct_debt_indicators\n",
       "0            DT.AMT.BLAT.CD\n",
       "1            DT.AMT.DLXF.CD\n",
       "2            DT.AMT.DPNG.CD\n",
       "3            DT.AMT.MLAT.CD\n",
       "4            DT.AMT.OFFT.CD\n",
       "5            DT.AMT.PBND.CD\n",
       "6            DT.AMT.PCBK.CD\n",
       "7            DT.AMT.PROP.CD\n",
       "8            DT.AMT.PRVT.CD\n",
       "9            DT.DIS.BLAT.CD\n",
       "10           DT.DIS.DLXF.CD\n",
       "11           DT.DIS.MLAT.CD\n",
       "12           DT.DIS.OFFT.CD\n",
       "13           DT.DIS.PCBK.CD\n",
       "14           DT.DIS.PROP.CD\n",
       "15           DT.DIS.PRVT.CD\n",
       "16           DT.INT.BLAT.CD\n",
       "17           DT.INT.DLXF.CD\n",
       "18           DT.INT.DPNG.CD\n",
       "19           DT.INT.MLAT.CD\n",
       "20           DT.INT.OFFT.CD\n",
       "21           DT.INT.PBND.CD\n",
       "22           DT.INT.PCBK.CD\n",
       "23           DT.INT.PROP.CD\n",
       "24           DT.INT.PRVT.CD"
      ]
     },
     "metadata": {},
     "output_type": "display_data"
    }
   ],
   "source": [
    "sql_string = 'SELECT DISTINCT indicator_code AS distinct_debt_indicators FROM international_debt ORDER BY distinct_debt_indicators;'\n",
    "df = pd.read_sql(sql_string, conn)\n",
    "display(df)"
   ]
  },
  {
   "cell_type": "markdown",
   "metadata": {
    "dc": {
     "key": "28"
    },
    "deletable": false,
    "editable": false,
    "run_control": {
     "frozen": true
    },
    "tags": [
     "context"
    ]
   },
   "source": [
    "## 4. Totaling the amount of debt owed by the countries\n",
    "<p>As mentioned earlier, the financial debt of a particular country represents its economic state. But if we were to project this on an overall global scale, how will we approach it?</p>\n",
    "<p>Let's switch gears from the debt indicators now and find out the total amount of debt (in USD) that is owed by the different countries. This will give us a sense of how the overall economy of the entire world is holding up.</p>"
   ]
  },
  {
   "cell_type": "code",
   "execution_count": 32,
   "metadata": {
    "dc": {
     "key": "28"
    },
    "tags": [
     "sample_code"
    ]
   },
   "outputs": [
    {
     "data": {
      "text/html": [
       "<div>\n",
       "<style scoped>\n",
       "    .dataframe tbody tr th:only-of-type {\n",
       "        vertical-align: middle;\n",
       "    }\n",
       "\n",
       "    .dataframe tbody tr th {\n",
       "        vertical-align: top;\n",
       "    }\n",
       "\n",
       "    .dataframe thead th {\n",
       "        text-align: right;\n",
       "    }\n",
       "</style>\n",
       "<table border=\"1\" class=\"dataframe\">\n",
       "  <thead>\n",
       "    <tr style=\"text-align: right;\">\n",
       "      <th></th>\n",
       "      <th>total_debt</th>\n",
       "    </tr>\n",
       "  </thead>\n",
       "  <tbody>\n",
       "    <tr>\n",
       "      <th>0</th>\n",
       "      <td>3079734.49</td>\n",
       "    </tr>\n",
       "  </tbody>\n",
       "</table>\n",
       "</div>"
      ],
      "text/plain": [
       "   total_debt\n",
       "0  3079734.49"
      ]
     },
     "metadata": {},
     "output_type": "display_data"
    }
   ],
   "source": [
    "\n",
    "sql_string ='SELECT Round(SUM(DEBT)/1000000,2) AS total_debt FROM international_debt;'\n",
    "df=pd.read_sql(sql_string,conn)\n",
    "display(df)"
   ]
  },
  {
   "cell_type": "markdown",
   "metadata": {
    "dc": {
     "key": "36"
    },
    "deletable": false,
    "editable": false,
    "run_control": {
     "frozen": true
    },
    "tags": [
     "context"
    ]
   },
   "source": [
    "## 5. Country with the highest debt\n",
    "<p>\"Human beings cannot comprehend very large or very small numbers. It would be useful for us to acknowledge that fact.\" - <a href=\"https://en.wikipedia.org/wiki/Daniel_Kahneman\">Daniel Kahneman</a>. That is more than <em>3 million <strong>million</strong></em> USD, an amount which is really hard for us to fathom. </p>\n",
    "<p>Now that we have the exact total of the amounts of debt owed by several countries, let's now find out the country that owns the highest amount of debt along with the amount. <strong>Note</strong> that this debt is the sum of different debts owed by a country across several categories. This will help to understand more about the country in terms of its socio-economic scenarios. We can also find out the category in which the country owns its highest debt. But we will leave that for now. </p>"
   ]
  },
  {
   "cell_type": "code",
   "execution_count": 33,
   "metadata": {
    "dc": {
     "key": "36"
    },
    "tags": [
     "sample_code"
    ]
   },
   "outputs": [
    {
     "data": {
      "text/html": [
       "<div>\n",
       "<style scoped>\n",
       "    .dataframe tbody tr th:only-of-type {\n",
       "        vertical-align: middle;\n",
       "    }\n",
       "\n",
       "    .dataframe tbody tr th {\n",
       "        vertical-align: top;\n",
       "    }\n",
       "\n",
       "    .dataframe thead th {\n",
       "        text-align: right;\n",
       "    }\n",
       "</style>\n",
       "<table border=\"1\" class=\"dataframe\">\n",
       "  <thead>\n",
       "    <tr style=\"text-align: right;\">\n",
       "      <th></th>\n",
       "      <th>country_name</th>\n",
       "      <th>total_debt</th>\n",
       "    </tr>\n",
       "  </thead>\n",
       "  <tbody>\n",
       "    <tr>\n",
       "      <th>0</th>\n",
       "      <td>China</td>\n",
       "      <td>2.857935e+11</td>\n",
       "    </tr>\n",
       "  </tbody>\n",
       "</table>\n",
       "</div>"
      ],
      "text/plain": [
       "  country_name    total_debt\n",
       "0        China  2.857935e+11"
      ]
     },
     "metadata": {},
     "output_type": "display_data"
    }
   ],
   "source": [
    "sql_string='SELECT country_name, SUM(debt) AS total_debt FROM international_debt GROUP BY country_name ORDER BY total_debt DESC LIMIT 1;'\n",
    "df=pd.read_sql(sql_string,conn)\n",
    "display(df)"
   ]
  },
  {
   "cell_type": "markdown",
   "metadata": {
    "dc": {
     "key": "44"
    },
    "deletable": false,
    "editable": false,
    "run_control": {
     "frozen": true
    },
    "tags": [
     "context"
    ]
   },
   "source": [
    "## 6. Average amount of debt across indicators\n",
    "<p>So, it was <em>China</em>. A more in-depth breakdown of China's debts can be found <a href=\"https://datatopics.worldbank.org/debt/ids/country/CHN\">here</a>. </p>\n",
    "<p>We now have a brief overview of the dataset and a few of its summary statistics. We already have an idea of the different debt indicators in which the countries owe their debts. We can dig even further to find out on an average how much debt a country owes? This will give us a better sense of the distribution of the amount of debt across different indicators.</p>"
   ]
  },
  {
   "cell_type": "code",
   "execution_count": 34,
   "metadata": {
    "dc": {
     "key": "44"
    },
    "tags": [
     "sample_code"
    ]
   },
   "outputs": [
    {
     "data": {
      "text/html": [
       "<div>\n",
       "<style scoped>\n",
       "    .dataframe tbody tr th:only-of-type {\n",
       "        vertical-align: middle;\n",
       "    }\n",
       "\n",
       "    .dataframe tbody tr th {\n",
       "        vertical-align: top;\n",
       "    }\n",
       "\n",
       "    .dataframe thead th {\n",
       "        text-align: right;\n",
       "    }\n",
       "</style>\n",
       "<table border=\"1\" class=\"dataframe\">\n",
       "  <thead>\n",
       "    <tr style=\"text-align: right;\">\n",
       "      <th></th>\n",
       "      <th>debt_indicator</th>\n",
       "      <th>indicator_name</th>\n",
       "      <th>average_debt</th>\n",
       "    </tr>\n",
       "  </thead>\n",
       "  <tbody>\n",
       "    <tr>\n",
       "      <th>0</th>\n",
       "      <td>DT.AMT.DLXF.CD</td>\n",
       "      <td>Principal repayments on external debt, long-te...</td>\n",
       "      <td>5.904868e+09</td>\n",
       "    </tr>\n",
       "    <tr>\n",
       "      <th>1</th>\n",
       "      <td>DT.AMT.DPNG.CD</td>\n",
       "      <td>Principal repayments on external debt, private...</td>\n",
       "      <td>5.161194e+09</td>\n",
       "    </tr>\n",
       "    <tr>\n",
       "      <th>2</th>\n",
       "      <td>DT.DIS.DLXF.CD</td>\n",
       "      <td>Disbursements on external debt, long-term (DIS...</td>\n",
       "      <td>2.152041e+09</td>\n",
       "    </tr>\n",
       "    <tr>\n",
       "      <th>3</th>\n",
       "      <td>DT.DIS.OFFT.CD</td>\n",
       "      <td>PPG, official creditors (DIS, current US$)</td>\n",
       "      <td>1.958983e+09</td>\n",
       "    </tr>\n",
       "    <tr>\n",
       "      <th>4</th>\n",
       "      <td>DT.AMT.PRVT.CD</td>\n",
       "      <td>PPG, private creditors (AMT, current US$)</td>\n",
       "      <td>1.803694e+09</td>\n",
       "    </tr>\n",
       "    <tr>\n",
       "      <th>5</th>\n",
       "      <td>DT.INT.DLXF.CD</td>\n",
       "      <td>Interest payments on external debt, long-term ...</td>\n",
       "      <td>1.644024e+09</td>\n",
       "    </tr>\n",
       "    <tr>\n",
       "      <th>6</th>\n",
       "      <td>DT.DIS.BLAT.CD</td>\n",
       "      <td>PPG, bilateral (DIS, current US$)</td>\n",
       "      <td>1.223139e+09</td>\n",
       "    </tr>\n",
       "    <tr>\n",
       "      <th>7</th>\n",
       "      <td>DT.INT.DPNG.CD</td>\n",
       "      <td>Interest payments on external debt, private no...</td>\n",
       "      <td>1.220411e+09</td>\n",
       "    </tr>\n",
       "    <tr>\n",
       "      <th>8</th>\n",
       "      <td>DT.AMT.OFFT.CD</td>\n",
       "      <td>PPG, official creditors (AMT, current US$)</td>\n",
       "      <td>1.191188e+09</td>\n",
       "    </tr>\n",
       "    <tr>\n",
       "      <th>9</th>\n",
       "      <td>DT.AMT.PBND.CD</td>\n",
       "      <td>PPG, bonds (AMT, current US$)</td>\n",
       "      <td>1.082624e+09</td>\n",
       "    </tr>\n",
       "  </tbody>\n",
       "</table>\n",
       "</div>"
      ],
      "text/plain": [
       "   debt_indicator                                     indicator_name  \\\n",
       "0  DT.AMT.DLXF.CD  Principal repayments on external debt, long-te...   \n",
       "1  DT.AMT.DPNG.CD  Principal repayments on external debt, private...   \n",
       "2  DT.DIS.DLXF.CD  Disbursements on external debt, long-term (DIS...   \n",
       "3  DT.DIS.OFFT.CD         PPG, official creditors (DIS, current US$)   \n",
       "4  DT.AMT.PRVT.CD          PPG, private creditors (AMT, current US$)   \n",
       "5  DT.INT.DLXF.CD  Interest payments on external debt, long-term ...   \n",
       "6  DT.DIS.BLAT.CD                  PPG, bilateral (DIS, current US$)   \n",
       "7  DT.INT.DPNG.CD  Interest payments on external debt, private no...   \n",
       "8  DT.AMT.OFFT.CD         PPG, official creditors (AMT, current US$)   \n",
       "9  DT.AMT.PBND.CD                      PPG, bonds (AMT, current US$)   \n",
       "\n",
       "   average_debt  \n",
       "0  5.904868e+09  \n",
       "1  5.161194e+09  \n",
       "2  2.152041e+09  \n",
       "3  1.958983e+09  \n",
       "4  1.803694e+09  \n",
       "5  1.644024e+09  \n",
       "6  1.223139e+09  \n",
       "7  1.220411e+09  \n",
       "8  1.191188e+09  \n",
       "9  1.082624e+09  "
      ]
     },
     "metadata": {},
     "output_type": "display_data"
    }
   ],
   "source": [
    "sql_string='SELECT indicator_code AS debt_indicator,indicator_name,AVG(debt) AS average_debt FROM international_debt GROUP BY debt_indicator,indicator_name ORDER BY average_debt DESC LIMIT 10;'\n",
    "df=pd.read_sql(sql_string,conn)\n",
    "display(df)"
   ]
  },
  {
   "cell_type": "markdown",
   "metadata": {
    "dc": {
     "key": "52"
    },
    "deletable": false,
    "editable": false,
    "run_control": {
     "frozen": true
    },
    "tags": [
     "context"
    ]
   },
   "source": [
    "## 7. The highest amount of principal repayments\n",
    "<p>We can see that the indicator <code>DT.AMT.DLXF.CD</code> tops the chart of average debt. This category includes repayment of long term debts. Countries take on long-term debt to acquire immediate capital. More information about this category can be found <a href=\"https://datacatalog.worldbank.org/principal-repayments-external-debt-long-term-amt-current-us-0\">here</a>. </p>\n",
    "<p>An interesting observation in the above finding is that there is a huge difference in the amounts of the indicators after the second one. This indicates that the first two indicators might be the most severe categories in which the countries owe their debts.</p>\n",
    "<p>We can investigate this a bit more so as to find out which country owes the highest amount of debt in the category of long term debts (<code>DT.AMT.DLXF.CD</code>). Since not all the countries suffer from the same kind of economic disturbances, this finding will allow us to understand that particular country's economic condition a bit more specifically. </p>"
   ]
  },
  {
   "cell_type": "code",
   "execution_count": 36,
   "metadata": {
    "dc": {
     "key": "52"
    },
    "scrolled": true,
    "tags": [
     "sample_code"
    ]
   },
   "outputs": [
    {
     "data": {
      "text/html": [
       "<div>\n",
       "<style scoped>\n",
       "    .dataframe tbody tr th:only-of-type {\n",
       "        vertical-align: middle;\n",
       "    }\n",
       "\n",
       "    .dataframe tbody tr th {\n",
       "        vertical-align: top;\n",
       "    }\n",
       "\n",
       "    .dataframe thead th {\n",
       "        text-align: right;\n",
       "    }\n",
       "</style>\n",
       "<table border=\"1\" class=\"dataframe\">\n",
       "  <thead>\n",
       "    <tr style=\"text-align: right;\">\n",
       "      <th></th>\n",
       "      <th>country_name</th>\n",
       "      <th>indicator_name</th>\n",
       "    </tr>\n",
       "  </thead>\n",
       "  <tbody>\n",
       "    <tr>\n",
       "      <th>0</th>\n",
       "      <td>China</td>\n",
       "      <td>Principal repayments on external debt, long-te...</td>\n",
       "    </tr>\n",
       "  </tbody>\n",
       "</table>\n",
       "</div>"
      ],
      "text/plain": [
       "  country_name                                     indicator_name\n",
       "0        China  Principal repayments on external debt, long-te..."
      ]
     },
     "metadata": {},
     "output_type": "display_data"
    }
   ],
   "source": [
    "sql_string=\"SELECT country_name, indicator_name FROM international_debt WHERE debt = (SELECT  MAX(debt) FROM international_debt WHERE indicator_code='DT.AMT.DLXF.CD');\"\n",
    "df=pd.read_sql(sql_string,conn)\n",
    "display(df)"
   ]
  },
  {
   "cell_type": "markdown",
   "metadata": {
    "dc": {
     "key": "60"
    },
    "deletable": false,
    "editable": false,
    "run_control": {
     "frozen": true
    },
    "tags": [
     "context"
    ]
   },
   "source": [
    "## 8. The most common debt indicator\n",
    "<p>China has the highest amount of debt in the long-term debt (<code>DT.AMT.DLXF.CD</code>) category. This is verified by <a href=\"https://data.worldbank.org/indicator/DT.AMT.DLXF.CD?end=2018&most_recent_value_desc=true\">The World Bank</a>. It is often a good idea to verify our analyses like this since it validates that our investigations are correct. </p>\n",
    "<p>We saw that long-term debt is the topmost category when it comes to the average amount of debt. But is it the most common indicator in which the countries owe their debt? Let's find that out. </p>"
   ]
  },
  {
   "cell_type": "code",
   "execution_count": 37,
   "metadata": {
    "dc": {
     "key": "60"
    },
    "scrolled": true,
    "tags": [
     "sample_code"
    ]
   },
   "outputs": [
    {
     "data": {
      "text/html": [
       "<div>\n",
       "<style scoped>\n",
       "    .dataframe tbody tr th:only-of-type {\n",
       "        vertical-align: middle;\n",
       "    }\n",
       "\n",
       "    .dataframe tbody tr th {\n",
       "        vertical-align: top;\n",
       "    }\n",
       "\n",
       "    .dataframe thead th {\n",
       "        text-align: right;\n",
       "    }\n",
       "</style>\n",
       "<table border=\"1\" class=\"dataframe\">\n",
       "  <thead>\n",
       "    <tr style=\"text-align: right;\">\n",
       "      <th></th>\n",
       "      <th>indicator_code</th>\n",
       "      <th>indicator_count</th>\n",
       "    </tr>\n",
       "  </thead>\n",
       "  <tbody>\n",
       "    <tr>\n",
       "      <th>0</th>\n",
       "      <td>DT.INT.OFFT.CD</td>\n",
       "      <td>124</td>\n",
       "    </tr>\n",
       "    <tr>\n",
       "      <th>1</th>\n",
       "      <td>DT.INT.MLAT.CD</td>\n",
       "      <td>124</td>\n",
       "    </tr>\n",
       "    <tr>\n",
       "      <th>2</th>\n",
       "      <td>DT.INT.DLXF.CD</td>\n",
       "      <td>124</td>\n",
       "    </tr>\n",
       "    <tr>\n",
       "      <th>3</th>\n",
       "      <td>DT.AMT.OFFT.CD</td>\n",
       "      <td>124</td>\n",
       "    </tr>\n",
       "    <tr>\n",
       "      <th>4</th>\n",
       "      <td>DT.AMT.MLAT.CD</td>\n",
       "      <td>124</td>\n",
       "    </tr>\n",
       "    <tr>\n",
       "      <th>5</th>\n",
       "      <td>DT.AMT.DLXF.CD</td>\n",
       "      <td>124</td>\n",
       "    </tr>\n",
       "    <tr>\n",
       "      <th>6</th>\n",
       "      <td>DT.DIS.DLXF.CD</td>\n",
       "      <td>123</td>\n",
       "    </tr>\n",
       "    <tr>\n",
       "      <th>7</th>\n",
       "      <td>DT.INT.BLAT.CD</td>\n",
       "      <td>122</td>\n",
       "    </tr>\n",
       "    <tr>\n",
       "      <th>8</th>\n",
       "      <td>DT.DIS.OFFT.CD</td>\n",
       "      <td>122</td>\n",
       "    </tr>\n",
       "    <tr>\n",
       "      <th>9</th>\n",
       "      <td>DT.AMT.BLAT.CD</td>\n",
       "      <td>122</td>\n",
       "    </tr>\n",
       "    <tr>\n",
       "      <th>10</th>\n",
       "      <td>DT.DIS.MLAT.CD</td>\n",
       "      <td>120</td>\n",
       "    </tr>\n",
       "    <tr>\n",
       "      <th>11</th>\n",
       "      <td>DT.DIS.BLAT.CD</td>\n",
       "      <td>113</td>\n",
       "    </tr>\n",
       "    <tr>\n",
       "      <th>12</th>\n",
       "      <td>DT.INT.PRVT.CD</td>\n",
       "      <td>98</td>\n",
       "    </tr>\n",
       "    <tr>\n",
       "      <th>13</th>\n",
       "      <td>DT.AMT.PRVT.CD</td>\n",
       "      <td>98</td>\n",
       "    </tr>\n",
       "    <tr>\n",
       "      <th>14</th>\n",
       "      <td>DT.INT.PCBK.CD</td>\n",
       "      <td>84</td>\n",
       "    </tr>\n",
       "    <tr>\n",
       "      <th>15</th>\n",
       "      <td>DT.AMT.PCBK.CD</td>\n",
       "      <td>84</td>\n",
       "    </tr>\n",
       "    <tr>\n",
       "      <th>16</th>\n",
       "      <td>DT.INT.DPNG.CD</td>\n",
       "      <td>79</td>\n",
       "    </tr>\n",
       "    <tr>\n",
       "      <th>17</th>\n",
       "      <td>DT.AMT.DPNG.CD</td>\n",
       "      <td>79</td>\n",
       "    </tr>\n",
       "    <tr>\n",
       "      <th>18</th>\n",
       "      <td>DT.INT.PBND.CD</td>\n",
       "      <td>69</td>\n",
       "    </tr>\n",
       "    <tr>\n",
       "      <th>19</th>\n",
       "      <td>DT.AMT.PBND.CD</td>\n",
       "      <td>69</td>\n",
       "    </tr>\n",
       "  </tbody>\n",
       "</table>\n",
       "</div>"
      ],
      "text/plain": [
       "    indicator_code  indicator_count\n",
       "0   DT.INT.OFFT.CD              124\n",
       "1   DT.INT.MLAT.CD              124\n",
       "2   DT.INT.DLXF.CD              124\n",
       "3   DT.AMT.OFFT.CD              124\n",
       "4   DT.AMT.MLAT.CD              124\n",
       "5   DT.AMT.DLXF.CD              124\n",
       "6   DT.DIS.DLXF.CD              123\n",
       "7   DT.INT.BLAT.CD              122\n",
       "8   DT.DIS.OFFT.CD              122\n",
       "9   DT.AMT.BLAT.CD              122\n",
       "10  DT.DIS.MLAT.CD              120\n",
       "11  DT.DIS.BLAT.CD              113\n",
       "12  DT.INT.PRVT.CD               98\n",
       "13  DT.AMT.PRVT.CD               98\n",
       "14  DT.INT.PCBK.CD               84\n",
       "15  DT.AMT.PCBK.CD               84\n",
       "16  DT.INT.DPNG.CD               79\n",
       "17  DT.AMT.DPNG.CD               79\n",
       "18  DT.INT.PBND.CD               69\n",
       "19  DT.AMT.PBND.CD               69"
      ]
     },
     "metadata": {},
     "output_type": "display_data"
    }
   ],
   "source": [
    "sql_string='SELECT indicator_code,COUNT(indicator_code) AS indicator_count FROM international_debt GROUP BY indicator_code ORDER BY indicator_count DESC,indicator_code DESC LIMIT 20;'\n",
    "df=pd.read_sql(sql_string,conn)\n",
    "display(df)"
   ]
  },
  {
   "cell_type": "markdown",
   "metadata": {
    "dc": {
     "key": "68"
    },
    "deletable": false,
    "editable": false,
    "run_control": {
     "frozen": true
    },
    "tags": [
     "context"
    ]
   },
   "source": [
    "## 9. Other viable debt issues and conclusion\n",
    "<p>There are a total of six debt indicators in which all the countries listed in our dataset have taken debt. The indicator <code>DT.AMT.DLXF.CD</code> is also there in the list. So, this gives us a clue that all these countries are suffering from a common economic issue. But that is not the end of the story, but just a part of the story.</p>\n",
    "<p>Let's change tracks from <code>debt_indicator</code>s now and focus on the amount of debt again. Let's find out the maximum amount of debt that each country has. With this, we will be in a position to identify the other plausible economic issues a country might be going through.</p>\n",
    "<p>In this notebook, we took a look at debt owed by countries across the globe. We extracted a few summary statistics from the data and unraveled some interesting facts and figures. We also validated our findings to make sure the investigations are correct.</p>"
   ]
  },
  {
   "cell_type": "code",
   "execution_count": 39,
   "metadata": {
    "dc": {
     "key": "68"
    },
    "tags": [
     "sample_code"
    ]
   },
   "outputs": [
    {
     "data": {
      "text/html": [
       "<div>\n",
       "<style scoped>\n",
       "    .dataframe tbody tr th:only-of-type {\n",
       "        vertical-align: middle;\n",
       "    }\n",
       "\n",
       "    .dataframe tbody tr th {\n",
       "        vertical-align: top;\n",
       "    }\n",
       "\n",
       "    .dataframe thead th {\n",
       "        text-align: right;\n",
       "    }\n",
       "</style>\n",
       "<table border=\"1\" class=\"dataframe\">\n",
       "  <thead>\n",
       "    <tr style=\"text-align: right;\">\n",
       "      <th></th>\n",
       "      <th>country_name</th>\n",
       "      <th>maximum_debt</th>\n",
       "    </tr>\n",
       "  </thead>\n",
       "  <tbody>\n",
       "    <tr>\n",
       "      <th>0</th>\n",
       "      <td>Tonga</td>\n",
       "      <td>1.036991e+07</td>\n",
       "    </tr>\n",
       "    <tr>\n",
       "      <th>1</th>\n",
       "      <td>Sao Tome and Principe</td>\n",
       "      <td>1.063685e+07</td>\n",
       "    </tr>\n",
       "    <tr>\n",
       "      <th>2</th>\n",
       "      <td>Comoros</td>\n",
       "      <td>1.346004e+07</td>\n",
       "    </tr>\n",
       "    <tr>\n",
       "      <th>3</th>\n",
       "      <td>Dominica</td>\n",
       "      <td>2.139416e+07</td>\n",
       "    </tr>\n",
       "    <tr>\n",
       "      <th>4</th>\n",
       "      <td>Samoa</td>\n",
       "      <td>2.171541e+07</td>\n",
       "    </tr>\n",
       "    <tr>\n",
       "      <th>...</th>\n",
       "      <td>...</td>\n",
       "      <td>...</td>\n",
       "    </tr>\n",
       "    <tr>\n",
       "      <th>119</th>\n",
       "      <td>South Asia</td>\n",
       "      <td>4.875630e+10</td>\n",
       "    </tr>\n",
       "    <tr>\n",
       "      <th>120</th>\n",
       "      <td>Turkey</td>\n",
       "      <td>5.155503e+10</td>\n",
       "    </tr>\n",
       "    <tr>\n",
       "      <th>121</th>\n",
       "      <td>Russian Federation</td>\n",
       "      <td>6.658976e+10</td>\n",
       "    </tr>\n",
       "    <tr>\n",
       "      <th>122</th>\n",
       "      <td>Brazil</td>\n",
       "      <td>9.004184e+10</td>\n",
       "    </tr>\n",
       "    <tr>\n",
       "      <th>123</th>\n",
       "      <td>China</td>\n",
       "      <td>9.621862e+10</td>\n",
       "    </tr>\n",
       "  </tbody>\n",
       "</table>\n",
       "<p>124 rows × 2 columns</p>\n",
       "</div>"
      ],
      "text/plain": [
       "              country_name  maximum_debt\n",
       "0                    Tonga  1.036991e+07\n",
       "1    Sao Tome and Principe  1.063685e+07\n",
       "2                  Comoros  1.346004e+07\n",
       "3                 Dominica  2.139416e+07\n",
       "4                    Samoa  2.171541e+07\n",
       "..                     ...           ...\n",
       "119             South Asia  4.875630e+10\n",
       "120                 Turkey  5.155503e+10\n",
       "121     Russian Federation  6.658976e+10\n",
       "122                 Brazil  9.004184e+10\n",
       "123                  China  9.621862e+10\n",
       "\n",
       "[124 rows x 2 columns]"
      ]
     },
     "metadata": {},
     "output_type": "display_data"
    }
   ],
   "source": [
    "sql_string='SELECT country_name, max(debt) AS maximum_debt FROM international_debt GROUP BY country_name ORDER BY maximum_debt'\n",
    "df=pd.read_sql(sql_string,conn)\n",
    "display(df)"
   ]
  },
  {
   "cell_type": "code",
   "execution_count": null,
   "metadata": {},
   "outputs": [],
   "source": []
  }
 ],
 "metadata": {
  "kernelspec": {
   "display_name": "Python 3 (ipykernel)",
   "language": "python",
   "name": "python3"
  },
  "language_info": {
   "codemirror_mode": {
    "name": "ipython",
    "version": 3
   },
   "file_extension": ".py",
   "mimetype": "text/x-python",
   "name": "python",
   "nbconvert_exporter": "python",
   "pygments_lexer": "ipython3",
   "version": "3.10.9"
  }
 },
 "nbformat": 4,
 "nbformat_minor": 2
}
